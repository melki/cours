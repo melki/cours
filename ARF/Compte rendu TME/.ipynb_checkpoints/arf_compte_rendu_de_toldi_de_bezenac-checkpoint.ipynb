{
 "cells": [
  {
   "cell_type": "markdown",
   "metadata": {},
   "source": [
    "# ARF: COMPTE RENDU\n",
    "### de Toldi Melchior, de Bézenac Emmanuel\n",
    "\n",
    "Pour ce compte rendu, nous allons nous évaluer les modèles vus en TME sur des problèmes de classification binaire. Nous utilisons les données proposés par le site kaggle.com, disponibles à partir du lieu suivant:\n",
    "\n",
    "https://www.kaggle.com/c/titanic/data\n",
    "\n",
    "### CHARGEMENT DES DONNÉES"
   ]
  },
  {
   "cell_type": "code",
   "execution_count": 1,
   "metadata": {
    "collapsed": false
   },
   "outputs": [
    {
     "name": "stdout",
     "output_type": "stream",
     "text": [
      "((891, 8), (418, 7))\n"
     ]
    },
    {
     "data": {
      "text/html": [
       "<div>\n",
       "<table border=\"1\" class=\"dataframe\">\n",
       "  <thead>\n",
       "    <tr style=\"text-align: right;\">\n",
       "      <th></th>\n",
       "      <th>Survived</th>\n",
       "      <th>Pclass</th>\n",
       "      <th>Age</th>\n",
       "      <th>SibSp</th>\n",
       "      <th>Parch</th>\n",
       "      <th>Fare</th>\n",
       "      <th>Embarked</th>\n",
       "      <th>Gender</th>\n",
       "    </tr>\n",
       "  </thead>\n",
       "  <tbody>\n",
       "    <tr>\n",
       "      <th>0</th>\n",
       "      <td>0</td>\n",
       "      <td>3</td>\n",
       "      <td>22</td>\n",
       "      <td>1</td>\n",
       "      <td>0</td>\n",
       "      <td>7.2500</td>\n",
       "      <td>2</td>\n",
       "      <td>1</td>\n",
       "    </tr>\n",
       "    <tr>\n",
       "      <th>1</th>\n",
       "      <td>1</td>\n",
       "      <td>1</td>\n",
       "      <td>38</td>\n",
       "      <td>1</td>\n",
       "      <td>0</td>\n",
       "      <td>71.2833</td>\n",
       "      <td>0</td>\n",
       "      <td>0</td>\n",
       "    </tr>\n",
       "    <tr>\n",
       "      <th>2</th>\n",
       "      <td>1</td>\n",
       "      <td>3</td>\n",
       "      <td>26</td>\n",
       "      <td>0</td>\n",
       "      <td>0</td>\n",
       "      <td>7.9250</td>\n",
       "      <td>2</td>\n",
       "      <td>0</td>\n",
       "    </tr>\n",
       "    <tr>\n",
       "      <th>3</th>\n",
       "      <td>1</td>\n",
       "      <td>1</td>\n",
       "      <td>35</td>\n",
       "      <td>1</td>\n",
       "      <td>0</td>\n",
       "      <td>53.1000</td>\n",
       "      <td>2</td>\n",
       "      <td>0</td>\n",
       "    </tr>\n",
       "    <tr>\n",
       "      <th>4</th>\n",
       "      <td>0</td>\n",
       "      <td>3</td>\n",
       "      <td>35</td>\n",
       "      <td>0</td>\n",
       "      <td>0</td>\n",
       "      <td>8.0500</td>\n",
       "      <td>2</td>\n",
       "      <td>1</td>\n",
       "    </tr>\n",
       "    <tr>\n",
       "      <th>5</th>\n",
       "      <td>0</td>\n",
       "      <td>3</td>\n",
       "      <td>28</td>\n",
       "      <td>0</td>\n",
       "      <td>0</td>\n",
       "      <td>8.4583</td>\n",
       "      <td>1</td>\n",
       "      <td>1</td>\n",
       "    </tr>\n",
       "    <tr>\n",
       "      <th>6</th>\n",
       "      <td>0</td>\n",
       "      <td>1</td>\n",
       "      <td>54</td>\n",
       "      <td>0</td>\n",
       "      <td>0</td>\n",
       "      <td>51.8625</td>\n",
       "      <td>2</td>\n",
       "      <td>1</td>\n",
       "    </tr>\n",
       "    <tr>\n",
       "      <th>7</th>\n",
       "      <td>0</td>\n",
       "      <td>3</td>\n",
       "      <td>2</td>\n",
       "      <td>3</td>\n",
       "      <td>1</td>\n",
       "      <td>21.0750</td>\n",
       "      <td>2</td>\n",
       "      <td>1</td>\n",
       "    </tr>\n",
       "    <tr>\n",
       "      <th>8</th>\n",
       "      <td>1</td>\n",
       "      <td>3</td>\n",
       "      <td>27</td>\n",
       "      <td>0</td>\n",
       "      <td>2</td>\n",
       "      <td>11.1333</td>\n",
       "      <td>2</td>\n",
       "      <td>0</td>\n",
       "    </tr>\n",
       "    <tr>\n",
       "      <th>9</th>\n",
       "      <td>1</td>\n",
       "      <td>2</td>\n",
       "      <td>14</td>\n",
       "      <td>1</td>\n",
       "      <td>0</td>\n",
       "      <td>30.0708</td>\n",
       "      <td>0</td>\n",
       "      <td>0</td>\n",
       "    </tr>\n",
       "  </tbody>\n",
       "</table>\n",
       "</div>"
      ],
      "text/plain": [
       "   Survived  Pclass  Age  SibSp  Parch     Fare  Embarked  Gender\n",
       "0         0       3   22      1      0   7.2500         2       1\n",
       "1         1       1   38      1      0  71.2833         0       0\n",
       "2         1       3   26      0      0   7.9250         2       0\n",
       "3         1       1   35      1      0  53.1000         2       0\n",
       "4         0       3   35      0      0   8.0500         2       1\n",
       "5         0       3   28      0      0   8.4583         1       1\n",
       "6         0       1   54      0      0  51.8625         2       1\n",
       "7         0       3    2      3      1  21.0750         2       1\n",
       "8         1       3   27      0      2  11.1333         2       0\n",
       "9         1       2   14      1      0  30.0708         0       0"
      ]
     },
     "execution_count": 1,
     "metadata": {},
     "output_type": "execute_result"
    }
   ],
   "source": [
    "import pandas as pd\n",
    "path='data/'\n",
    "train_df=pd.read_csv(path+'final_train.csv',index_col=False)\n",
    "test_df=pd.read_csv(path+'final_test.csv')\n",
    "datax=train_df[['Pclass','Age','Parch','Fare','Embarked','Gender']].values\n",
    "datay=train_df['Survived'].values\n",
    "\n",
    "print(train_df.shape,test_df.shape)\n",
    "train_df[:10]"
   ]
  },
  {
   "cell_type": "markdown",
   "metadata": {},
   "source": [
    "### CLASSE CLASSIFIER ET VALIDATION CROISÉE"
   ]
  },
  {
   "cell_type": "code",
   "execution_count": 1,
   "metadata": {
    "collapsed": false,
    "scrolled": true
   },
   "outputs": [],
   "source": [
    "%matplotlib inline\n",
    "import matplotlib.pyplot as plt\n",
    "from collections import namedtuple\n",
    "import numpy as np\n",
    "\n",
    "class Classifier(object):\n",
    "    \"\"\" Classe generique d'un classifieur\n",
    "        Dispose de 3 méthodes :\n",
    "            fit pour apprendre\n",
    "            predict pour predire\n",
    "            score pour evaluer la precision\n",
    "    \"\"\"\n",
    "    def fit(self,data,y):\n",
    "        raise NotImplementedError(\"fit non  implemente\")\n",
    "    def predict(self,data):\n",
    "        raise NotImplementedError(\"predict non implemente\")\n",
    "    def score(self,data,y):\n",
    "        return (self.predict(data)==y).mean()\n",
    "\n",
    "def v2m(x):\n",
    "    return x.reshape((x.size,1)) if len(x.shape)==1 else x\n",
    "\n",
    "def cross_validation(model,x,y,k):\n",
    "    n=len(x)\n",
    "    index_perm=np.random.permutation(range(n))\n",
    "    scores=np.zeros((k))\n",
    "    x_perm=x[[index_perm]]\n",
    "    y_perm=y[[index_perm]]\n",
    "    for index in range(k):        \n",
    "        ik=int(float(index)*n/k)\n",
    "        ikp1=int(float(index+1)*n/k)\n",
    "        x_train=np.vstack((x_perm[:ik],x_perm[ikp1:]))\n",
    "        y_train=np.concatenate((y_perm[:ik],y_perm[ikp1:]))\n",
    "        x_test=x_perm[ik:ikp1]\n",
    "        model.fit(x_train,y_train)        \n",
    "        y_test=y_perm[ik:ikp1]\n",
    "        scores[index]=model.score(x_test,y_test)\n",
    "        #print('round '+str(index)+': '+str(scores[index])+'%.')\n",
    "    return scores.mean()    "
   ]
  },
  {
   "cell_type": "markdown",
   "metadata": {},
   "source": [
    "## ARBRES DE DÉCISION\n",
    "\n",
    "### MODÈLE"
   ]
  },
  {
   "cell_type": "code",
   "execution_count": 3,
   "metadata": {
    "collapsed": false,
    "scrolled": true
   },
   "outputs": [
    {
     "name": "stdout",
     "output_type": "stream",
     "text": [
      "Couldn't import dot_parser, loading of dot files will not be possible.\n"
     ]
    }
   ],
   "source": [
    "import decisiontree as dt\n",
    "\n",
    "import cPickle\n",
    "fields={}\n",
    "for index,f in enumerate(['Pclass','Age','Parch','Fare','Embarked','Gender']):\n",
    "    fields[index]=f\n",
    "dectree = dt.DecisionTree()\n",
    "dectree.max_depth = 1\n",
    "#dectree.fit(datax ,datay)"
   ]
  },
  {
   "cell_type": "markdown",
   "metadata": {},
   "source": [
    "### RÉSULTATS:"
   ]
  },
  {
   "cell_type": "code",
   "execution_count": 6,
   "metadata": {
    "collapsed": false,
    "scrolled": true
   },
   "outputs": [
    {
     "data": {
      "image/png": "[encoded data removed]",
      "text/plain": [
       "<matplotlib.figure.Figure at 0x7f1a0b3b0f10>"
      ]
     },
     "metadata": {},
     "output_type": "display_data"
    }
   ],
   "source": [
    "#print dectree.score(datax,datay)\n",
    "max_depth=10\n",
    "dec_score=np.zeros((max_depth))\n",
    "for depth in range(max_depth):\n",
    "    dectree.max_depth = depth\n",
    "    dec_score[depth]=cross_validation(dectree,datax,datay,8)\n",
    "plt.plot(range(max_depth),dec_score)\n",
    "plt.show()\n",
    "#dectree.to_pdf(\"tree.pdf\",fields)"
   ]
  },
  {
   "cell_type": "markdown",
   "metadata": {},
   "source": [
    "## NAIVE BAYES\n",
    "\n",
    "### MODÈLE"
   ]
  },
  {
   "cell_type": "code",
   "execution_count": 53,
   "metadata": {
    "collapsed": false
   },
   "outputs": [
    {
     "data": {
      "image/png": "[encoded data removed]",
      "text/plain": [
       "<matplotlib.figure.Figure at 0x7fb6745411d0>"
      ]
     },
     "metadata": {},
     "output_type": "display_data"
    },
    {
     "data": {
      "image/png": "[encoded data removed]",
      "text/plain": [
       "<matplotlib.figure.Figure at 0x7fb674552f90>"
      ]
     },
     "metadata": {},
     "output_type": "display_data"
    }
   ],
   "source": [
    "from arftools import *\n",
    "import pandas as pd\n",
    "import numpy as np\n",
    "\n",
    "class Bayes(Classifier):\n",
    "    def fit(self,x,y):\n",
    "        self.nb_classes=len(np.unique(y))\n",
    "        x_l=np.array([x[np.where(y==i)] for i in range(self.nb_classes)])\n",
    "        mean=[[np.mean(x_l[j][:,i]) for i in range(x_l[j].shape[1])] for j in range(self.nb_classes)]\n",
    "        std=[[np.std(x_l[j][:,i])+.1 for i in range(x_l[j].shape[1])] for j in range(self.nb_classes)]\n",
    "        self.mean=np.array(mean)\n",
    "        self.std=np.array(std)\n",
    "    \n",
    "    def predict(self,x):\n",
    "        m,s=self.mean,self.std\n",
    "        maxllog=np.zeros((x.shape[0]))\n",
    "        for k in range(x.shape[0]):            \n",
    "            maxllog[k]=np.argmax([np.sum([np.log(1/(np.sqrt(2*np.pi)*s[j][i])*np.exp((-0.5*(float(x[k][i]-m[j][i])/s[j][i])**2))) for i in range(x.shape[1])]) for j in range(m.shape[0])])\n",
    "        return maxllog\n",
    "    \n",
    "    \n",
    "    \n",
    "df1=pd.read_csv('data/two_gaussians.csv',sep=';')\n",
    "x1=df1[['x1','x2']].values\n",
    "y1=df1['y'].values\n",
    "plot_data(x1,y1)\n",
    "plt.show()\n",
    "bayes=Bayes()\n",
    "bayes.fit(x1,y1)\n",
    "plot_frontiere(x1,bayes.predict)"
   ]
  },
  {
   "cell_type": "markdown",
   "metadata": {},
   "source": [
    "### RÉSULTATS:"
   ]
  },
  {
   "cell_type": "code",
   "execution_count": 8,
   "metadata": {
    "collapsed": false
   },
   "outputs": [
    {
     "data": {
      "text/plain": [
       "0.76432794401544402"
      ]
     },
     "execution_count": 8,
     "metadata": {},
     "output_type": "execute_result"
    }
   ],
   "source": [
    "bayes=Bayes()\n",
    "cross_validation(bayes,datax,datay,8)"
   ]
  },
  {
   "cell_type": "markdown",
   "metadata": {},
   "source": [
    "## KNN\n",
    "\n",
    "### MODÈLE"
   ]
  },
  {
   "cell_type": "code",
   "execution_count": 2,
   "metadata": {
    "collapsed": false
   },
   "outputs": [
    {
     "name": "stderr",
     "output_type": "stream",
     "text": [
      "arftools.py:79: FutureWarning: comparison to `None` will result in an elementwise object comparison in the future.\n",
      "  if data!=None:\n"
     ]
    },
    {
     "data": {
      "image/png": "[encoded data removed]",
      "text/plain": [
       "<matplotlib.figure.Figure at 0x7fde1e1b0990>"
      ]
     },
     "metadata": {},
     "output_type": "display_data"
    }
   ],
   "source": [
    "from arftools import *\n",
    "import pandas as pd\n",
    "import numpy as np\n",
    "class KNN(Classifier):\n",
    "    def __init__(self,k):\n",
    "        self.k=k\n",
    "        \n",
    "    def fit(self,x,y):\n",
    "        self.x=x\n",
    "        self.y=y\n",
    "        \n",
    "    def predict(self,z):\n",
    "        z_labels=np.zeros((len(z)))\n",
    "        for index,j in enumerate(z):\n",
    "            dist=np.array([np.linalg.norm(i-j) for i in self.x])\n",
    "            arg_dist=np.argsort(dist)[:self.k]\n",
    "            vote=self.y[arg_dist]\n",
    "            vote = vote.astype(int)\n",
    "            z_labels[index]=np.argmax(np.bincount(vote))\n",
    "            \n",
    "        return z_labels\n",
    "    \n",
    "df1=pd.read_csv('data/hyperbolic2.csv',sep=';')\n",
    "x1=df1[['x1','x2']].values\n",
    "y1=df1['y'].values\n",
    "y1 = (y1+1)/2\n",
    "\n",
    "\n",
    "\n",
    "\n",
    "knn=KNN(10)\n",
    "knn.fit(x1,y1)\n",
    "plot_frontiere(x1,knn.predict)\n",
    "plot_data(x1,y1)"
   ]
  },
  {
   "cell_type": "code",
   "execution_count": 3,
   "metadata": {
    "collapsed": false
   },
   "outputs": [
    {
     "data": {
      "image/png": "[encoded data removed]",
      "text/plain": [
       "<matplotlib.figure.Figure at 0x7ff960105e10>"
      ]
     },
     "metadata": {},
     "output_type": "display_data"
    }
   ],
   "source": [
    "import arftools as arf\n",
    "arf.plot_data_frontiere(data=x1,f=knn.predict,labels=y1)"
   ]
  },
  {
   "cell_type": "markdown",
   "metadata": {},
   "source": [
    "### RÉSULTATS:"
   ]
  },
  {
   "cell_type": "code",
   "execution_count": 6,
   "metadata": {
    "collapsed": false,
    "scrolled": false
   },
   "outputs": [
    {
     "ename": "NameError",
     "evalue": "name 'datax' is not defined",
     "output_type": "error",
     "traceback": [
      "\u001b[1;31m---------------------------------------------------------------------------\u001b[0m",
      "\u001b[1;31mNameError\u001b[0m                                 Traceback (most recent call last)",
      "\u001b[1;32m<ipython-input-6-360595cd5426>\u001b[0m in \u001b[0;36m<module>\u001b[1;34m()\u001b[0m\n\u001b[0;32m      3\u001b[0m \u001b[1;32mfor\u001b[0m \u001b[0mk\u001b[0m \u001b[1;32min\u001b[0m \u001b[0mrange\u001b[0m\u001b[1;33m(\u001b[0m\u001b[1;36m1\u001b[0m\u001b[1;33m,\u001b[0m\u001b[0mmax_k\u001b[0m\u001b[1;33m+\u001b[0m\u001b[1;36m1\u001b[0m\u001b[1;33m)\u001b[0m\u001b[1;33m:\u001b[0m\u001b[1;33m\u001b[0m\u001b[0m\n\u001b[0;32m      4\u001b[0m     \u001b[0mknn\u001b[0m\u001b[1;33m=\u001b[0m\u001b[0mKNN\u001b[0m\u001b[1;33m(\u001b[0m\u001b[0mk\u001b[0m\u001b[1;33m=\u001b[0m\u001b[0mk\u001b[0m\u001b[1;33m)\u001b[0m\u001b[1;33m\u001b[0m\u001b[0m\n\u001b[1;32m----> 5\u001b[1;33m     \u001b[0mknn_score\u001b[0m\u001b[1;33m[\u001b[0m\u001b[0mk\u001b[0m\u001b[1;33m-\u001b[0m\u001b[1;36m1\u001b[0m\u001b[1;33m]\u001b[0m\u001b[1;33m=\u001b[0m\u001b[0mcross_validation\u001b[0m\u001b[1;33m(\u001b[0m\u001b[0mknn\u001b[0m\u001b[1;33m,\u001b[0m\u001b[0mdatax\u001b[0m\u001b[1;33m,\u001b[0m\u001b[0mdatay\u001b[0m\u001b[1;33m,\u001b[0m\u001b[1;36m8\u001b[0m\u001b[1;33m)\u001b[0m\u001b[1;33m\u001b[0m\u001b[0m\n\u001b[0m\u001b[0;32m      6\u001b[0m \u001b[0mplt\u001b[0m\u001b[1;33m.\u001b[0m\u001b[0mplot\u001b[0m\u001b[1;33m(\u001b[0m\u001b[0mrange\u001b[0m\u001b[1;33m(\u001b[0m\u001b[1;36m1\u001b[0m\u001b[1;33m,\u001b[0m\u001b[0mmax_k\u001b[0m\u001b[1;33m+\u001b[0m\u001b[1;36m1\u001b[0m\u001b[1;33m)\u001b[0m\u001b[1;33m,\u001b[0m\u001b[0mknn_score\u001b[0m\u001b[1;33m)\u001b[0m\u001b[1;33m\u001b[0m\u001b[0m\n\u001b[0;32m      7\u001b[0m \u001b[0mplt\u001b[0m\u001b[1;33m.\u001b[0m\u001b[0mshow\u001b[0m\u001b[1;33m(\u001b[0m\u001b[1;33m)\u001b[0m\u001b[1;33m\u001b[0m\u001b[0m\n",
      "\u001b[1;31mNameError\u001b[0m: name 'datax' is not defined"
     ]
    }
   ],
   "source": [
    "max_k=15\n",
    "knn_score=np.zeros((max_k))\n",
    "for k in range(1,max_k+1):\n",
    "    knn=KNN(k=k)\n",
    "    knn_score[k-1]=cross_validation(knn,datax,datay,8)\n",
    "plt.plot(range(1,max_k+1),knn_score)\n",
    "plt.show()"
   ]
  },
  {
   "cell_type": "markdown",
   "metadata": {},
   "source": [
    "## PERCEPTRON\n",
    "\n",
    "### MODÈLE"
   ]
  },
  {
   "cell_type": "code",
   "execution_count": 47,
   "metadata": {
    "collapsed": false
   },
   "outputs": [
    {
     "data": {
      "image/png": "[encoded data removed]",
      "text/plain": [
       "<matplotlib.figure.Figure at 0x7fb6746fb310>"
      ]
     },
     "metadata": {},
     "output_type": "display_data"
    },
    {
     "data": {
      "image/png": "[encoded data removed]",
      "text/plain": [
       "<matplotlib.figure.Figure at 0x7fb674597bd0>"
      ]
     },
     "metadata": {},
     "output_type": "display_data"
    }
   ],
   "source": [
    "def hinge(x,y,w):\n",
    "    return np.maximum(0.,-(x.dot(w))*y)\n",
    "\n",
    "def hinge_grad(x,y,w):\n",
    "    return x*y\n",
    "\n",
    "Fonction = namedtuple(\"Fonction\",[\"f\",\"grad\",\"dim\"]) #declaration de la structure\n",
    "HINGE=Fonction(hinge,hinge_grad,6)\n",
    "\n",
    "class Perceptron(Classifier):\n",
    "    def __init__(self,loss=HINGE,max_iter=100,eps=0.001):\n",
    "        self.max_iter,self.eps=max_iter,eps\n",
    "        self.w=None\n",
    "        self.loss=loss\n",
    "        \n",
    "    def fit(self,datax,datay):\n",
    "        datay=v2m(datay*2-1)\n",
    "        self.w=np.random.random((len(datax[0]),1))-0.5\n",
    "        self.max_iter=400\n",
    "        for t in range(self.max_iter):\n",
    "            hinge=self.loss[0](datax,datay,self.w)\n",
    "            index_pos=np.where(hinge>0.)[0]\n",
    "            grad=self.loss[1](datax,datay,self.w)\n",
    "            self.w+=self.eps*np.array([np.sum(grad[index_pos],axis=0)]).T\n",
    "        #print 'hinge loss: '+str(np.sum(hinge))\n",
    "        #print 'fit score: '+str((1.-float(len(np.where(hinge>0.)[0]))/len(datax))*100)+'%.'\n",
    "        \n",
    "    def predict(self,datax):\n",
    "         return (np.sign(datax.dot(self.w))+1)/2\n",
    "df1=pd.read_csv('data/four_gaussians.csv',sep=';')\n",
    "x1=df1[['x1','x2']].values\n",
    "y1=df1['y'].values\n",
    "y1 = (y1+1)/2\n",
    "\n",
    "\n",
    "plot_data(x1,y1)\n",
    "plt.show()\n",
    "\n",
    "per=Perceptron()\n",
    "per.fit(x1,y1)\n",
    "plot_frontiere(x1,per.predict)"
   ]
  },
  {
   "cell_type": "markdown",
   "metadata": {},
   "source": [
    "## Plots du perceptron"
   ]
  },
  {
   "cell_type": "code",
   "execution_count": 34,
   "metadata": {
    "collapsed": false
   },
   "outputs": [
    {
     "name": "stdout",
     "output_type": "stream",
     "text": [
      "hinge loss: 57.1477273269\n",
      "fit score: 76.7%.\n",
      "hinge loss: 6.97088515537\n",
      "fit score: 95.7%.\n",
      "hinge loss: 4.35420656385\n",
      "fit score: 96.9%.\n",
      "hinge loss: 3.21746109354\n",
      "fit score: 97.7%.\n",
      "hinge loss: 2.5443822977\n",
      "fit score: 98.3%.\n",
      "hinge loss: 2.17834026901\n",
      "fit score: 98.6%.\n",
      "hinge loss: 1.97564555522\n",
      "fit score: 98.6%.\n",
      "hinge loss: 1.78433600142\n",
      "fit score: 98.5%.\n",
      "hinge loss: 1.62788334224\n",
      "fit score: 98.6%.\n",
      "hinge loss: 1.5264500119\n",
      "fit score: 98.5%.\n",
      "hinge loss: 1.43806527406\n",
      "fit score: 98.5%.\n",
      "hinge loss: 1.35754307348\n",
      "fit score: 98.6%.\n",
      "hinge loss: 1.27890239879\n",
      "fit score: 98.6%.\n",
      "hinge loss: 1.20026172409\n",
      "fit score: 98.6%.\n",
      "hinge loss: 1.12162104939\n",
      "fit score: 98.6%.\n",
      "hinge loss: 1.05354720726\n",
      "fit score: 98.6%.\n",
      "hinge loss: 1.02393222292\n",
      "fit score: 98.7%.\n",
      "hinge loss: 0.99751632898\n",
      "fit score: 98.5%.\n",
      "hinge loss: 0.976746717268\n",
      "fit score: 98.6%.\n",
      "hinge loss: 0.957903440067\n",
      "fit score: 98.6%.\n",
      "hinge loss: 0.939060162865\n",
      "fit score: 98.6%.\n",
      "hinge loss: 0.920216885663\n",
      "fit score: 98.6%.\n",
      "hinge loss: 0.901373608462\n",
      "fit score: 98.6%.\n",
      "hinge loss: 0.88253033126\n",
      "fit score: 98.6%.\n",
      "hinge loss: 0.863687054058\n",
      "fit score: 98.6%.\n",
      "hinge loss: 0.844843776856\n",
      "fit score: 98.6%.\n",
      "hinge loss: 0.826000499655\n",
      "fit score: 98.6%.\n",
      "hinge loss: 0.807157222453\n",
      "fit score: 98.6%.\n",
      "hinge loss: 0.788313945251\n",
      "fit score: 98.6%.\n",
      "hinge loss: 0.76947066805\n",
      "fit score: 98.6%.\n",
      "hinge loss: 0.750627390848\n",
      "fit score: 98.6%.\n",
      "hinge loss: 0.731784113646\n",
      "fit score: 98.6%.\n",
      "hinge loss: 0.712940836444\n",
      "fit score: 98.6%.\n",
      "hinge loss: 0.694097559243\n",
      "fit score: 98.6%.\n",
      "hinge loss: 0.675254282041\n",
      "fit score: 98.6%.\n",
      "hinge loss: 0.656411004839\n",
      "fit score: 98.6%.\n",
      "hinge loss: 0.637567727638\n",
      "fit score: 98.6%.\n",
      "hinge loss: 0.618724450436\n",
      "fit score: 98.6%.\n",
      "hinge loss: 0.599881173234\n",
      "fit score: 98.6%.\n",
      "hinge loss: 0.581037896032\n",
      "fit score: 98.6%.\n"
     ]
    },
    {
     "data": {
      "text/plain": [
       "[<matplotlib.lines.Line2D at 0x7fde19d08e50>]"
      ]
     },
     "execution_count": 34,
     "metadata": {},
     "output_type": "execute_result"
    },
    {
     "data": {
      "image/png": "[encoded data removed]",
      "text/plain": [
       "<matplotlib.figure.Figure at 0x7fde1ad2e150>"
      ]
     },
     "metadata": {},
     "output_type": "display_data"
    }
   ],
   "source": [
    "def hinge(x,y,w):\n",
    "    return np.maximum(0.,-(x.dot(w))*y)\n",
    "\n",
    "def hinge_grad(x,y,w):\n",
    "    return x*y\n",
    "\n",
    "Fonction = namedtuple(\"Fonction\",[\"f\",\"grad\",\"dim\"]) #declaration de la structure\n",
    "HINGE=Fonction(hinge,hinge_grad,6)\n",
    "\n",
    "class Perceptron(Classifier):\n",
    "    def __init__(self,loss=HINGE,max_iter=100,eps=0.0001):\n",
    "        \n",
    "        self.max_iter,self.eps=max_iter,eps\n",
    "        self.w=None\n",
    "        self.loss=loss\n",
    "        \n",
    "    def fit(self,datax,datay):\n",
    "        datay=v2m(datay*2-1)\n",
    "        self.w=np.random.random((len(datax[0]),1))-0.5\n",
    "        self.max_iter=400\n",
    "        for t in range(self.max_iter):\n",
    "            hinge=self.loss[0](datax,datay,self.w)\n",
    "            index_pos=np.where(hinge>0.)[0]\n",
    "            grad=self.loss[1](datax,datay,self.w)\n",
    "            self.w+=self.eps*np.array([np.sum(grad[index_pos],axis=0)]).T\n",
    "        #print 'hinge loss: '+str(np.sum(hinge))\n",
    "        #print 'fit score: '+str((1.-float(len(np.where(hinge>0.)[0]))/len(datax))*100)+'%.'\n",
    "        \n",
    "    def predict(self,datax):\n",
    "         return (np.sign(datax.dot(self.w))+1)/2\n",
    "    \n",
    "    def plot_fit(self,datax,datay):\n",
    "        #Fitting\n",
    "        datay=v2m(datay*2-1)\n",
    "        self.w=np.random.random((len(datax[0]),1))-0.5\n",
    "        self.max_iter=400\n",
    "        #Pour le plotting\n",
    "        ratio=0.8\n",
    "        x_test=datax[int(ratio*len(datax)):]\n",
    "        x_train=datax[:int(ratio*len(datax))]\n",
    "        y_test=datay[int(ratio*len(datax)):]\n",
    "        y_train=datay[:int(ratio*len(datax))]\n",
    "        score_fit_plot=[]\n",
    "        x_plot=[]\n",
    "        score_predict_plot=[]\n",
    "        for t in range(self.max_iter):\n",
    "            if(t%10==1):\n",
    "                x_plot.append(t)\n",
    "                score_fit_plot.append(self.score(x_train,y_train))\n",
    "                score_predict_plot.append(self.score(x_test,y_test))\n",
    "                print 'hinge loss: '+str(np.sum(hinge))\n",
    "                print 'fit score: '+str((1.-float(len(np.where(hinge>0.)[0]))/len(datax))*100)+'%.'\n",
    "                \n",
    "            hinge=self.loss[0](x_train,y_train,self.w)\n",
    "            index_pos=np.where(hinge>0.)[0]\n",
    "            grad=self.loss[1](x_train,y_train,self.w)\n",
    "            self.w+=self.eps*np.array([np.sum(grad[index_pos],axis=0)]).T\n",
    "        return x_plot,[score_fit_plot,score_predict_plot]\n",
    "        \n",
    "        #Plotting\n",
    "    \n",
    "    \n",
    "df1=pd.read_csv('data/two_gaussians.csv',sep=';')\n",
    "\n",
    "x1=df1[['x1','x2']].values\n",
    "y1=df1['y'].values\n",
    "y1 = (y1+1)/2\n",
    "\n",
    "\n",
    "#plot_data(x1,y1)\n",
    "\n",
    "plt.show()\n",
    "\n",
    "per=Perceptron()\n",
    "x_plot,y_plot=per.plot_fit(x1,y1)\n",
    "#plt.xlabel='iteration'\n",
    "\n",
    "plt.plot(x_plot,y_plot[0])\n",
    "plt.plot(x_plot,y_plot[1])\n",
    "\n",
    "#plot_frontiere(x1,per.predict)"
   ]
  },
  {
   "cell_type": "markdown",
   "metadata": {},
   "source": [
    "### RÉSULTATS:"
   ]
  },
  {
   "cell_type": "code",
   "execution_count": 13,
   "metadata": {
    "collapsed": false,
    "scrolled": true
   },
   "outputs": [
    {
     "name": "stdout",
     "output_type": "stream",
     "text": [
      "{0: 'Pclass', 1: 'Age', 2: 'Parch', 3: 'Fare', 4: 'Embarked', 5: 'Gender'}\n",
      "(891, 9) (891, 6)\n",
      "0.556114251231\n",
      "with new params:\n",
      "0.537403736947\n"
     ]
    }
   ],
   "source": [
    "perc=Perceptron()\n",
    "new_datax=np.zeros((datax.shape[0],datax.shape[1]+3))\n",
    "new_datax[:,:6]=datax\n",
    "print fields\n",
    "new_datax[:,6]=np.log(new_datax[:,5]*new_datax[:,5]+1)\n",
    "new_datax[:,7]=np.log(new_datax[:,3]*new_datax[:,3]+1)\n",
    "new_datax[:,8]=np.log(new_datax[:,0]*new_datax[:,0]+1)\n",
    "\n",
    "\n",
    "print new_datax.shape,datax.shape\n",
    "perc.fit(datax,datay)\n",
    "perc.fit(new_datax,datay)\n",
    "#perc.predict(datax[:100])\n",
    "print cross_validation(perc,datax,datay,8)\n",
    "print(\"with new params:\")\n",
    "print cross_validation(perc,new_datax,datay,8)"
   ]
  },
  {
   "cell_type": "code",
   "execution_count": null,
   "metadata": {
    "collapsed": true
   },
   "outputs": [],
   "source": [
    "import pandas as pd\n",
    "\n",
    "def loadCsv(fileName):\n",
    "    \n",
    "    df1=pd.read_csv('data/'+str(fileName)+'.csv',sep=';')\n",
    "    x1=df1[['x1','x2']].values\n",
    "    y1=df1['y'].values\n",
    "    return [x1,y1]\n"
   ]
  }
 ],
 "metadata": {
  "kernelspec": {
   "display_name": "Python 2",
   "language": "python",
   "name": "python2"
  },
  "language_info": {
   "codemirror_mode": {
    "name": "ipython",
    "version": 2
   },
   "file_extension": ".py",
   "mimetype": "text/x-python",
   "name": "python",
   "nbconvert_exporter": "python",
   "pygments_lexer": "ipython2",
   "version": "2.7.11"
  }
 },
 "nbformat": 4,
 "nbformat_minor": 0
}
