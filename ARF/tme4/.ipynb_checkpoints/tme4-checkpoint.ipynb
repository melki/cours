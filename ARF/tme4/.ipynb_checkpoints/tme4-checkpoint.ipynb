{
 "cells": [
  {
   "cell_type": "markdown",
   "metadata": {},
   "source": [
    "\n",
    "# TME4"
   ]
  },
  {
   "cell_type": "code",
   "execution_count": 1,
   "metadata": {
    "collapsed": false
   },
   "outputs": [],
   "source": [
    "import numpy as np\n",
    "from arftools import *\n",
    "from collections import namedtuple\n",
    "\n",
    "def hinge(datax,datay,w):\n",
    "    datax = np.array(datax)\n",
    "    \n",
    "    datay = np.array(datay)\n",
    "    w = np.array(w)\n",
    "    return np.maximum(0.,-datax.dot(w.T)*datay)\n",
    "    \n",
    "    \n",
    "\n",
    "def hingeGrad(datax,datay,w):\n",
    "    \n",
    "    \n",
    "    datax = np.array(datax)\n",
    "    datay = np.array(datay)\n",
    "    w = np.array(w)\n",
    "    \n",
    "    return np.maximum(0.,np.sign(-datax.dot(w)*datay)).T*(-datax*datay.T)\n",
    "\n",
    "\n",
    "\n"
   ]
  },
  {
   "cell_type": "code",
   "execution_count": 2,
   "metadata": {
    "collapsed": false
   },
   "outputs": [],
   "source": [
    "Fonction = namedtuple(\"Fonction\",[\"f\",\"grad\",\"dim\"])\n",
    "\n",
    "HINGE = Fonction(hinge,hingeGrad,0)\n",
    "\n",
    "class Perceptron:\n",
    "    def __init__(self,loss=HINGE,maxIter = 10, eps=0.01):\n",
    "        self.maxIter, self.eps = maxIter,eps\n",
    "        self.w = None\n",
    "        self.loss =loss\n",
    "    \n",
    "    def fit(self,datax,datay):\n",
    "        self.w = np.random.random(len(datax[0]))-.5\n",
    "        \n",
    "        for t in range(self.maxIter):\n",
    "            plot_frontiere(x,p.predict)\n",
    "\n",
    "            plot_data(datax)\n",
    "\n",
    "\n",
    "            plt.show()\n",
    "\n",
    "#             self.w+= self.eps * np.sum(self.loss[1](datax[t],datay[0][t],self.w),axis=0)\n",
    "            self.w+= self.eps * np.sum(self.loss[1](datax,datay,self.w),axis=0)\n",
    "            \n",
    "    def predict(self,datax):\n",
    "        return datax.dot(self.w)\n",
    "    def score(self,datax,datay):\n",
    "        pass\n",
    "    "
   ]
  },
  {
   "cell_type": "code",
   "execution_count": 3,
   "metadata": {
    "collapsed": false
   },
   "outputs": [
    {
     "ename": "NameError",
     "evalue": "name 'y' is not defined",
     "output_type": "error",
     "traceback": [
      "\u001b[1;31m---------------------------------------------------------------------------\u001b[0m",
      "\u001b[1;31mNameError\u001b[0m                                 Traceback (most recent call last)",
      "\u001b[1;32m<ipython-input-3-56a253f43c7c>\u001b[0m in \u001b[0;36m<module>\u001b[1;34m()\u001b[0m\n\u001b[1;32m----> 1\u001b[1;33m \u001b[0my\u001b[0m\u001b[1;33m[\u001b[0m\u001b[1;36m1\u001b[0m\u001b[1;33m]\u001b[0m\u001b[1;33m\u001b[0m\u001b[0m\n\u001b[0m",
      "\u001b[1;31mNameError\u001b[0m: name 'y' is not defined"
     ]
    }
   ],
   "source": [
    "y[1]"
   ]
  },
  {
   "cell_type": "code",
   "execution_count": 4,
   "metadata": {
    "collapsed": false
   },
   "outputs": [
    {
     "name": "stderr",
     "output_type": "stream",
     "text": [
      "arftools.py:79: FutureWarning: comparison to `None` will result in an elementwise object comparison in the future.\n",
      "  if data!=None:\n"
     ]
    }
   ],
   "source": [
    "\n",
    "\n",
    "x,y = gen_arti(-1,-1.,.05)\n",
    "axes = plt.gca()\n",
    "axes.set_ylim([-2,2])\n",
    "\n",
    "\n",
    "p = Perceptron()\n",
    "\n",
    "\n",
    "p.fit(x,[y])\n",
    "plot_data(x)\n",
    "\n"
   ]
  },
  {
   "cell_type": "code",
   "execution_count": 60,
   "metadata": {
    "collapsed": false
   },
   "outputs": [],
   "source": [
    "\"\"\"\n",
    "A simple example of an animated plot\n",
    "\"\"\"\n",
    "import numpy as np\n",
    "import matplotlib.pyplot as plt\n",
    "import matplotlib.animation as animation\n",
    "\n",
    "fig, ax = plt.subplots()\n",
    "\n",
    "x = np.arange(0, 2*np.pi, 0.01)        # x-array\n",
    "line, = ax.plot(x, np.sin(x))\n",
    "\n",
    "def animate(i):\n",
    "    line.set_ydata(np.sin(x+i/10.0))  # update the data\n",
    "    return line,\n",
    "\n",
    "#Init only required for blitting to give a clean slate.\n",
    "def init():\n",
    "    line.set_ydata(np.ma.array(x, mask=True))\n",
    "    return line,\n",
    "\n",
    "ani = animation.FuncAnimation(fig, animate, np.arange(1, 200), init_func=init,\n",
    "    interval=25, blit=True)\n",
    "plt.show()\n"
   ]
  },
  {
   "cell_type": "code",
   "execution_count": 40,
   "metadata": {
    "collapsed": false
   },
   "outputs": [
    {
     "data": {
      "text/plain": [
       "1000.0"
      ]
     },
     "execution_count": 40,
     "metadata": {},
     "output_type": "execute_result"
    }
   ],
   "source": [
    "y.dot(y)"
   ]
  },
  {
   "cell_type": "code",
   "execution_count": 7,
   "metadata": {
    "collapsed": false
   },
   "outputs": [
    {
     "ename": "SyntaxError",
     "evalue": "invalid syntax (<ipython-input-7-1f2486f764cd>, line 1)",
     "output_type": "error",
     "traceback": [
      "\u001b[1;36m  File \u001b[1;32m\"<ipython-input-7-1f2486f764cd>\"\u001b[1;36m, line \u001b[1;32m1\u001b[0m\n\u001b[1;33m    x[0,;]\u001b[0m\n\u001b[1;37m        ^\u001b[0m\n\u001b[1;31mSyntaxError\u001b[0m\u001b[1;31m:\u001b[0m invalid syntax\n"
     ]
    }
   ],
   "source": [
    "x[0,;]"
   ]
  },
  {
   "cell_type": "code",
   "execution_count": 28,
   "metadata": {
    "collapsed": false
   },
   "outputs": [],
   "source": []
  },
  {
   "cell_type": "code",
   "execution_count": 6,
   "metadata": {
    "collapsed": false
   },
   "outputs": [
    {
     "data": {
      "text/plain": [
       "{'a': 'b'}"
      ]
     },
     "execution_count": 6,
     "metadata": {},
     "output_type": "execute_result"
    }
   ],
   "source": [
    "t = {}\n",
    "t['a']='b'\n",
    "t"
   ]
  },
  {
   "cell_type": "code",
   "execution_count": null,
   "metadata": {
    "collapsed": true
   },
   "outputs": [],
   "source": []
  }
 ],
 "metadata": {
  "kernelspec": {
   "display_name": "Python 2",
   "language": "python",
   "name": "python2"
  },
  "language_info": {
   "codemirror_mode": {
    "name": "ipython",
    "version": 2
   },
   "file_extension": ".py",
   "mimetype": "text/x-python",
   "name": "python",
   "nbconvert_exporter": "python",
   "pygments_lexer": "ipython2",
   "version": "2.7.11"
  }
 },
 "nbformat": 4,
 "nbformat_minor": 0
}
