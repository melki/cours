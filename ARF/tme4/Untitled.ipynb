{
 "cells": [
  {
   "cell_type": "markdown",
   "metadata": {},
   "source": [
    "\n",
    "# TME4"
   ]
  },
  {
   "cell_type": "code",
   "execution_count": 1,
   "metadata": {
    "collapsed": false
   },
   "outputs": [],
   "source": [
    "import numpy as np\n",
    "from arftools import *\n",
    "from collections import namedtuple\n",
    "\n",
    "def hinge(datax,datay,w):\n",
    "    datax = np.array(datax)\n",
    "    datay = np.array(datay)\n",
    "    w = np.array(w)\n",
    "    return np.maximum(0,-datax.dot(w.T)*datay)\n",
    "    \n",
    "    \n",
    "\n",
    "def hingeGrad(datax,datay,w):\n",
    "    \n",
    "    datax = np.array(datax)\n",
    "    datay = np.array(datay)\n",
    "    w = np.array(w)\n",
    "    \n",
    "    \n",
    "    return np.maximum(0,np.sign(-datax.dot(w.T)*datay)).T*-datax*datay.T\n",
    "\n",
    "\n",
    "\n"
   ]
  },
  {
   "cell_type": "code",
   "execution_count": 4,
   "metadata": {
    "collapsed": false
   },
   "outputs": [],
   "source": [
    "Fonction = namedtuple(\"Fonction\",[\"f\",\"grad\",\"dim\"])\n",
    "\n",
    "HINGE = Fonction(hinge,hingeGrad,0)\n",
    "\n",
    "class Perceptron:\n",
    "    def __init__(self,loss=HINGE,maxIter = 100, eps=0.01):\n",
    "        self.maxIter, self.eps = maxIter,eps\n",
    "        self.w = None\n",
    "        self.loss =loss\n",
    "    \n",
    "    def fit(self,datax,datay):\n",
    "        self.w = np.ones(len(datax[0]))\n",
    "        for t in range(self.maxIter):\n",
    "            self.w+= self.eps * np.sum(self.loss[1](datax,datay,self.w))\n",
    "            print self.loss[1](datax,datay,self.w)\n",
    "    def predict(self,datax):\n",
    "        pass\n",
    "    def score(self,datax,datay):\n",
    "        pass\n",
    "    "
   ]
  },
  {
   "cell_type": "code",
   "execution_count": 5,
   "metadata": {
    "collapsed": false
   },
   "outputs": [],
   "source": [
    "x,y = gen_arti()"
   ]
  },
  {
   "cell_type": "code",
   "execution_count": 6,
   "metadata": {
    "collapsed": false
   },
   "outputs": [
    {
     "name": "stdout",
     "output_type": "stream",
     "text": [
      "[[-0. -0.]\n",
      " [-0. -0.]\n",
      " [-0. -0.]\n",
      " ..., \n",
      " [-0. -0.]\n",
      " [-0. -0.]\n",
      " [-0. -0.]]\n",
      "[[-0. -0.]\n",
      " [-0. -0.]\n",
      " [-0. -0.]\n",
      " ..., \n",
      " [-0. -0.]\n",
      " [-0. -0.]\n",
      " [-0. -0.]]\n",
      "[[-0. -0.]\n",
      " [-0. -0.]\n",
      " [-0. -0.]\n",
      " ..., \n",
      " [-0. -0.]\n",
      " [-0. -0.]\n",
      " [-0. -0.]]\n",
      "[[-0. -0.]\n",
      " [-0. -0.]\n",
      " [-0. -0.]\n",
      " ..., \n",
      " [-0. -0.]\n",
      " [-0. -0.]\n",
      " [-0. -0.]]\n",
      "[[-0. -0.]\n",
      " [-0. -0.]\n",
      " [-0. -0.]\n",
      " ..., \n",
      " [-0. -0.]\n",
      " [-0. -0.]\n",
      " [-0. -0.]]\n",
      "[[-0. -0.]\n",
      " [-0. -0.]\n",
      " [-0. -0.]\n",
      " ..., \n",
      " [-0. -0.]\n",
      " [-0. -0.]\n",
      " [-0. -0.]]\n",
      "[[-0. -0.]\n",
      " [-0. -0.]\n",
      " [-0. -0.]\n",
      " ..., \n",
      " [-0. -0.]\n",
      " [-0. -0.]\n",
      " [-0. -0.]]\n",
      "[[-0. -0.]\n",
      " [-0. -0.]\n",
      " [-0. -0.]\n",
      " ..., \n",
      " [-0. -0.]\n",
      " [-0. -0.]\n",
      " [-0. -0.]]\n",
      "[[-0. -0.]\n",
      " [-0. -0.]\n",
      " [-0. -0.]\n",
      " ..., \n",
      " [-0. -0.]\n",
      " [-0. -0.]\n",
      " [-0. -0.]]\n",
      "[[-0. -0.]\n",
      " [-0. -0.]\n",
      " [-0. -0.]\n",
      " ..., \n",
      " [-0. -0.]\n",
      " [-0. -0.]\n",
      " [-0. -0.]]\n"
     ]
    }
   ],
   "source": [
    "p = Perceptron()\n",
    "p.fit(x,[y])\n",
    "\n",
    "plt.plot(x,'o')\n",
    "plt.plot([0,10],p.w*[0,10])\n",
    "plt.show()\n"
   ]
  },
  {
   "cell_type": "code",
   "execution_count": 355,
   "metadata": {
    "collapsed": false
   },
   "outputs": [],
   "source": [
    "a = np.array([[-1,-1],[-1,-3],[1,1],[3,5]])\n",
    "b = np.array([-1,-1,1,1])"
   ]
  },
  {
   "cell_type": "code",
   "execution_count": null,
   "metadata": {
    "collapsed": false
   },
   "outputs": [],
   "source": [
    "a*b"
   ]
  },
  {
   "cell_type": "code",
   "execution_count": null,
   "metadata": {
    "collapsed": false
   },
   "outputs": [],
   "source": []
  },
  {
   "cell_type": "code",
   "execution_count": null,
   "metadata": {
    "collapsed": true
   },
   "outputs": [],
   "source": []
  }
 ],
 "metadata": {
  "kernelspec": {
   "display_name": "Python 2",
   "language": "python",
   "name": "python2"
  },
  "language_info": {
   "codemirror_mode": {
    "name": "ipython",
    "version": 2
   },
   "file_extension": ".py",
   "mimetype": "text/x-python",
   "name": "python",
   "nbconvert_exporter": "python",
   "pygments_lexer": "ipython2",
   "version": "2.7.11"
  }
 },
 "nbformat": 4,
 "nbformat_minor": 0
}
