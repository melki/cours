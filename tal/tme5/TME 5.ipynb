{
 "cells": [
  {
   "cell_type": "markdown",
   "metadata": {},
   "source": [
    "# TME 5 TAL\n"
   ]
  },
  {
   "cell_type": "code",
   "execution_count": 41,
   "metadata": {
    "collapsed": true
   },
   "outputs": [],
   "source": [
    "import numpy as  np\n",
    "import codecs\n",
    "import matplotlib.pyplot as plt\n",
    "import unicodedata\n",
    "import re\n",
    "from collections import Counter,defaultdict\n",
    "import nltk.corpus.reader as pt\n",
    "import os\n",
    "\n",
    "import string\n",
    "import pdb\n",
    "import nltk\n",
    "import scipy"
   ]
  },
  {
   "cell_type": "markdown",
   "metadata": {},
   "source": [
    "## 1. Chargement des données (automatique)\n",
    "\n"
   ]
  },
  {
   "cell_type": "code",
   "execution_count": 2,
   "metadata": {
    "collapsed": false
   },
   "outputs": [],
   "source": [
    "import nltk.corpus.reader as pt\n",
    "path2data = u'20news-bydate/20news-bydate-train/'\n",
    "\n",
    "rdr = pt.CategorizedPlaintextCorpusReader(path2data, '.*/[0-9]+', encoding='latin1', cat_pattern='([\\w\\.]+)/*')\n",
    "docs = [[rdr.raw(fileids=[f]) for f in rdr.fileids(c) ] for c in rdr.categories()]"
   ]
  },
  {
   "cell_type": "code",
   "execution_count": null,
   "metadata": {
    "collapsed": false
   },
   "outputs": [],
   "source": []
  },
  {
   "cell_type": "markdown",
   "metadata": {},
   "source": [
    "## 2. Chargement des données (à la main)"
   ]
  },
  {
   "cell_type": "code",
   "execution_count": 3,
   "metadata": {
    "collapsed": true
   },
   "outputs": [],
   "source": [
    "def readAFile(nf):\n",
    "    f = open(nf, 'rb')\n",
    "\n",
    "    txt = f.readlines()\n",
    "    txt = ' '.join(txt)\n",
    "\n",
    "    f.close()\n",
    "    return txt\n",
    "\n",
    "def compteLignes(nf, fdl='\\n', tbuf=16384):\n",
    "    \"\"\"Compte le nombre de lignes du fichier nf\"\"\"\n",
    "    c = 0\n",
    "    f = open(nf, 'rb')\n",
    "    while True:\n",
    "        buf = None\n",
    "        buf = f.read(tbuf)\n",
    "        if len(buf)==0:\n",
    "            break\n",
    "        c += buf.count(fdl)\n",
    "    f.seek(-1, 2)\n",
    "    car = f.read(1)\n",
    "    if car != fdl:\n",
    "        c += 1\n",
    "    f.close()\n",
    "    return c"
   ]
  },
  {
   "cell_type": "markdown",
   "metadata": {
    "collapsed": true
   },
   "source": [
    "## sac de mots"
   ]
  },
  {
   "cell_type": "code",
   "execution_count": 4,
   "metadata": {
    "collapsed": true
   },
   "outputs": [],
   "source": [
    "def preprocessSent(s):\n",
    "    punc = u''.join([ch for ch in string.punctuation]) # je laisse les points pour pouvoir séparer les phrases\n",
    "    punc += u'\\n\\r\\t\\\\'\n",
    "    table =string.maketrans(punc + string.digits, ' '*(len(punc)+len(string.digits)))\n",
    "    s = string.translate(unicodedata.normalize(\"NFKD\",s).encode(\"ascii\",\"ignore\"),table).lower() # elimination des accents + minuscules\n",
    "    return s\n",
    "def count_ngrams(s,n=2,dic=None):\n",
    "    if dic is None:\n",
    "        dic=Counter()\n",
    "    for i in range(len(s)):\n",
    "        for j in range(i+1,min(i+n+1,len(s)+1)):\n",
    "            dic[u''.join(s[i:j])]+=1\n",
    "    return dic"
   ]
  },
  {
   "cell_type": "code",
   "execution_count": 5,
   "metadata": {
    "collapsed": false
   },
   "outputs": [],
   "source": [
    "docProPre = [[] for i in range(len(docs))]\n",
    "for i in range(len(docs)):\n",
    "    for j in range(len(docs[i])):\n",
    "        docProPre[i].append(preprocessSent(docs[i][j]))\n",
    "    docProPre[i]=[s[:-1] for s in docProPre[i] if len(s)>2] # elimination des phrases/docs vides"
   ]
  },
  {
   "cell_type": "code",
   "execution_count": 6,
   "metadata": {
    "collapsed": false
   },
   "outputs": [
    {
     "data": {
      "text/plain": [
       "'from  mathew  mathew mantis co uk  subject  alt atheism faq  atheist resources summary  books  addresses  music    anything related to atheism keywords  faq  atheism  books  music  fiction  addresses  contacts expires  thu     apr               gmt distribution  world organization  mantis consultants  cambridge  uk  supersedes                  mantis co uk  lines       archive name  atheism resources alt atheism archive name  resources last modified     december      version                                     atheist resources                        addresses of atheist organizations                                       usa  freedom from religion foundation  darwin fish bumper stickers and assorted other atheist paraphernalia are available from the freedom from religion foundation in the us   write to   ffrf  p o  box      madison  wi        telephone                  evolution designs  evolution designs sell the  darwin fish    it s a fish symbol  like the ones christians stick on their cars  but with feet and the word  darwin  written inside   the deluxe moulded  d plastic fish is       postpaid in the us   write to   evolution designs       laurel canyon     north hollywood             ca         people in the san francisco bay area can get darwin fish from lynn gold    try mailing  figmo netcom com    for net people who go to lynn directly  the price is       per fish   american atheist press  aap publish various atheist books    critiques of the bible  lists of biblical contradictions  and so on   one such book is    the bible handbook  by w p  ball and g w  foote   american atheist press      pp   isbn                 nd edition         bible contradictions  absurdities  atrocities  immoralities    contains ball  foote   the bible contradicts itself   aap   based on the king james version of the bible   write to   american atheist press  p o  box         austin  tx                   or        cameron road  austin  tx             telephone                 fax                        prometheus books  sell books including haught s  holy horrors   see below    write to       east amherst street  buffalo  new york        telephone                   an alternate address  which may be newer or older  is  prometheus books     glenn drive  buffalo  ny              african americans for humanism  an organization promoting black secular humanism and uncovering the history of black freethought   they publish a quarterly newsletter  aah examiner   write to   norm r  allen  jr   african americans for humanism  p o  box                 buffalo  ny                                         united kingdom  rationalist press association          national secular society    islington high street                   holloway road london n   ew                          london n    nl                                                      british humanist association           south place ethical society    lamb s conduit passage              conway hall london wc r  rh                        red lion square                                        london wc r  rl fax                                                  the national secular society publish  the freethinker   a monthly magazine founded in                                           germany  ibka e v  internationaler bund der konfessionslosen und atheisten postfach      d      berlin     germany   ibka publish a journal  miz   materialien und informationen zur zeit  politisches journal der konfessionslosesn und atheisten  hrsg  ibka e v   miz vertrieb  postfach      d      berlin     germany   for atheist books  write to   ibdk  internationaler b ucherdienst der konfessionslosen postfach       d      hannover    germany  telephone                                               books    fiction  thomas m  disch   the santa claus compromise  short story   the ultimate proof that santa exists   all characters and  events are fictitious   any similarity to living or dead gods    uh  well     walter m  miller  jr   a canticle for leibowitz  one gem in this post atomic doomsday novel is the monks who spent their lives copying blueprints from  saint leibowitz   filling the sheets of paper with ink and leaving white lines and letters   edgar pangborn   davy  post atomic doomsday novel set in clerical states   the church  for example  forbids that anyone  produce  describe or use any substance containing    atoms     philip k  dick  philip k  dick dick wrote many philosophical and thought provoking short  stories and novels   his stories are bizarre at times  but very approachable  he wrote mainly sf  but he wrote about people  truth and religion rather than technology   although he often believed that he had met some sort of god  he remained sceptical   amongst his novels  the following are of some relevance    galactic pot healer  a fallible alien deity summons a group of earth craftsmen and women to a remote planet to raise a giant cathedral from beneath the oceans   when the deity begins to demand faith from the earthers  pot healer joe fernwright is unable to comply   a polished  ironic and amusing novel    a maze of death  noteworthy for its description of a technology based religion    valis  the schizophrenic hero searches for the hidden mysteries of gnostic christianity after reality is fired into his brain by a pink laser beam of unknown but possibly divine origin   he is accompanied by his dogmatic and dismissively atheist friend and assorted other odd characters    the divine invasion  god invades earth by making a young woman pregnant as she returns from another star system   unfortunately she is terminally ill  and must be assisted by a dead man whose brain is wired to    hour easy listening music   margaret atwood   the handmaid s tale  a story based on the premise that the us congress is mysteriously assassinated  and fundamentalists quickly take charge of the nation to set it  right  again   the book is the diary of a woman s life as she tries to live under the new christian theocracy   women s right to own property is revoked  and their bank accounts are closed  sinful luxuries are outlawed  and the radio is only used for readings from the bible   crimes are punished retroactively  doctors who performed legal abortions in the  old world  are hunted down and hanged   atwood s writing style is difficult to get used to at first  but the tale grows more and more chilling as it goes on   various authors   the bible  this somewhat dull and rambling work has often been criticized   however  it is probably worth reading  if only so that you ll know what all the fuss is about   it exists in many different versions  so make sure you get the one true version                                books    non fiction  peter de rosa   vicars of christ   bantam press       although de rosa seems to be christian or even catholic this is a very enlighting history of papal immoralities  adulteries  fallacies etc   german translation   gottes erste diener  die dunkle seite des papsttums   droemer knaur         michael martin   atheism  a philosophical justification   temple university press   philadelphia  usa  a detailed and scholarly justification of atheism   contains an outstanding appendix defining terminology and usage in this  necessarily  tendentious area   argues both for  negative atheism   i e  the  non belief in the existence of god s    and also for  positive atheism    the belief in the non existence of god s      includes great refutations of the most challenging arguments for god  particular attention is paid to refuting contempory theists such as platinga and swinburne      pages  isbn                hardcover  paperback also available    the case against christianity   temple university press a comprehensive critique of christianity  in which he considers the best contemporary defences of christianity and  ultimately  demonstrates that they are unsupportable and or incoherent      pages  isbn                james turner   without god  without creed   the johns hopkins university press  baltimore   md  usa subtitled  the origins of unbelief in america    examines the way in which unbelief  whether agnostic or atheistic   became a mainstream alternative world view   focusses on the period            and while considering france and britain the emphasis is on american  and particularly new england developments    neither a religious history of secularization or atheism  without god  without creed is  rather  the intellectual history of the fate of a single idea  the belief that god exists        pages  isbn  hardcover              x  paper                 george seldes  editor    the great thoughts   ballantine books  new york  usa a  dictionary of quotations  of a different kind  concentrating on statements and writings which  explicitly or implicitly  present the person s philosophy and world view   includes obscure  and often suppressed  opinions from many people   for some popular observations  traces the way in which various people expressed and twisted the idea over the centuries   quite a number of the quotations are derived from cardiff s  what great men think of religion  and noyes   views of religion       pages  isbn  paper              x   richard swinburne   the existence of god  revised edition    clarendon paperbacks  oxford this book is the second volume in a trilogy that began with  the coherence of theism         and was concluded with  faith and reason           in this work  swinburne attempts to construct a series of inductive arguments for the existence of god   his arguments  which are somewhat tendentious and rely upon the imputation of late   th century western christian values and aesthetics to a god which is supposedly as simple as can be conceived  were decisively rejected in mackie s  the miracle of theism    in the revised edition of  the existence of god   swinburne includes an appendix in which he makes a somewhat incoherent attempt to rebut mackie   j  l  mackie   the miracle of theism   oxford this  posthumous  volume contains a comprehensive review of the principal arguments for and against the existence of god   it ranges from the classical philosophical positions of descartes  anselm  berkeley  hume et al  through the moral arguments of newman  kant and sidgwick  to the recent restatements of the classical theses by plantinga and swinburne   it also addresses those positions which push the concept of god beyond the realm of the rational  such as those of kierkegaard  kung and philips  as well as  replacements for god  such as lelie s axiarchism   the book is a delight to read   less formalistic and better written than martin s works  and refreshingly direct when compared with the hand waving of swinburne   james a  haught   holy horrors  an illustrated history of religious murder and madness    prometheus books looks at religious persecution from ancient times to the present day    and not only by christians  library of congress catalog card number                  norm r  allen  jr    african american humanism  an anthology  see the listing for african americans for humanism above   gordon stein   an anthology of atheism and rationalism   prometheus books an anthology covering a wide range of subjects  including  the devil  evil and morality  and  the history of freethought    comprehensive bibliography   edmund d  cohen   the mind of the bible believer   prometheus books a study of why people become christian fundamentalists  and what effect it has on them                                   net resources  there s a small mail based archive server at mantis co uk which carries archives of old alt atheism moderated articles and assorted other files   for more information  send mail to archive server mantis co uk saying     help    send atheism index  and it will mail back a reply    mathew y'"
      ]
     },
     "execution_count": 6,
     "metadata": {},
     "output_type": "execute_result"
    }
   ],
   "source": [
    "docProPre[0][0]\n"
   ]
  },
  {
   "cell_type": "code",
   "execution_count": 7,
   "metadata": {
    "collapsed": false
   },
   "outputs": [],
   "source": [
    "indToDic = {}\n",
    "dicToInd = {}\n",
    "v = np.unique(np.array([a for doc in docProPre for w in doc for a in w.split()]))\n",
    "for i,w in enumerate(v):\n",
    "    \n",
    "    dicToInd[i]=w\n",
    "    indToDic[w]=i"
   ]
  },
  {
   "cell_type": "code",
   "execution_count": 8,
   "metadata": {
    "collapsed": false
   },
   "outputs": [],
   "source": [
    "D = len(dicToInd)\n",
    "docP = [docProPre[i][j].split() for i in range(len(docProPre)) for j in range(len(docProPre[i]))  ]\n",
    "N=len(docP)\n",
    "\n"
   ]
  },
  {
   "cell_type": "code",
   "execution_count": 9,
   "metadata": {
    "collapsed": false
   },
   "outputs": [],
   "source": [
    "bow=scipy.sparse.lil_matrix((N,D))\n",
    "cpt=0\n",
    "def add1(i,j):\n",
    "    bow[i,j] += 1"
   ]
  },
  {
   "cell_type": "code",
   "execution_count": 10,
   "metadata": {
    "collapsed": false
   },
   "outputs": [
    {
     "name": "stdout",
     "output_type": "stream",
     "text": [
      "bow computed\n"
     ]
    }
   ],
   "source": [
    "\n",
    "[[add1(i,indToDic[m]) for m in s if m in indToDic] for i,s in enumerate(docP)]\n",
    "\n",
    "print \"bow computed\""
   ]
  },
  {
   "cell_type": "code",
   "execution_count": 11,
   "metadata": {
    "collapsed": false
   },
   "outputs": [],
   "source": [
    "bowN = bow / bow.sum(1)"
   ]
  },
  {
   "cell_type": "code",
   "execution_count": 116,
   "metadata": {
    "collapsed": false
   },
   "outputs": [],
   "source": [
    "import numpy.random as rand\n",
    "prototypes = bowN[rand.permutation(N)[:20]]"
   ]
  },
  {
   "cell_type": "code",
   "execution_count": 57,
   "metadata": {
    "collapsed": false
   },
   "outputs": [],
   "source": [
    "sim = bowN.dot(prototypes.T) # métrique type cos\n",
    "y= sim.argmax(1) # comprendre les dimensions des matrices pour comprendre ce calcul\n"
   ]
  },
  {
   "cell_type": "code",
   "execution_count": 117,
   "metadata": {
    "collapsed": false
   },
   "outputs": [
    {
     "name": "stdout",
     "output_type": "stream",
     "text": [
      "itérations 0 check\n",
      "itérations 1 check\n",
      "itérations 2 check\n",
      "itérations 3 check\n",
      "itérations 4 check\n",
      "itérations 5 check\n",
      "itérations 6 check\n",
      "itérations 7 check\n",
      "itérations 8 check\n",
      "itérations 9 check\n",
      "itérations 10 check\n",
      "itérations 11 check\n",
      "itérations 12 check\n",
      "itérations 13 check\n",
      "itérations 14 check\n",
      "itérations 15 check\n",
      "itérations 16 check\n",
      "itérations 17 check\n",
      "itérations 18 check\n",
      "itérations 19 check\n"
     ]
    }
   ],
   "source": [
    "for ite in range(20):\n",
    "    sim = bowN.dot(prototypes.T) # métrique type cos\n",
    "    y= sim.argmax(1) # comprendre les dimensions des matrices pour comprendre ce calcul\n",
    "    for i in np.unique(np.array(y)):\n",
    "        prototypes[i] = bowN[np.where(y==i)[0]].sum(axis=1)/np.array(np.where(y==i)).shape[2]\n",
    "    print 'itérations '+str(ite) +\" check\""
   ]
  },
  {
   "cell_type": "code",
   "execution_count": 138,
   "metadata": {
    "collapsed": false
   },
   "outputs": [],
   "source": [
    "ySur = [i for i,doc in enumerate(docs) for di in doc]\n"
   ]
  },
  {
   "cell_type": "code",
   "execution_count": 161,
   "metadata": {
    "collapsed": false
   },
   "outputs": [
    {
     "ename": "TypeError",
     "evalue": "only length-1 arrays can be converted to Python scalars",
     "output_type": "error",
     "traceback": [
      "\u001b[1;31m---------------------------------------------------------------------------\u001b[0m",
      "\u001b[1;31mTypeError\u001b[0m                                 Traceback (most recent call last)",
      "\u001b[1;32m<ipython-input-161-f64eb87ff7b0>\u001b[0m in \u001b[0;36m<module>\u001b[1;34m()\u001b[0m\n\u001b[0;32m      1\u001b[0m \u001b[0mpurete\u001b[0m \u001b[1;33m=\u001b[0m \u001b[0mnp\u001b[0m\u001b[1;33m.\u001b[0m\u001b[0mzeros\u001b[0m\u001b[1;33m(\u001b[0m\u001b[1;33m(\u001b[0m\u001b[1;36m20\u001b[0m\u001b[1;33m)\u001b[0m\u001b[1;33m)\u001b[0m\u001b[1;33m\u001b[0m\u001b[0m\n\u001b[1;32m----> 2\u001b[1;33m \u001b[1;32mfor\u001b[0m \u001b[0mi\u001b[0m \u001b[1;32min\u001b[0m \u001b[0mrange\u001b[0m\u001b[1;33m(\u001b[0m\u001b[0mnp\u001b[0m\u001b[1;33m.\u001b[0m\u001b[0munique\u001b[0m\u001b[1;33m(\u001b[0m\u001b[0mnp\u001b[0m\u001b[1;33m.\u001b[0m\u001b[0marray\u001b[0m\u001b[1;33m(\u001b[0m\u001b[0my\u001b[0m\u001b[1;33m)\u001b[0m\u001b[1;33m)\u001b[0m\u001b[1;33m)\u001b[0m\u001b[1;33m:\u001b[0m\u001b[1;33m\u001b[0m\u001b[0m\n\u001b[0m\u001b[0;32m      3\u001b[0m     \u001b[1;32mprint\u001b[0m \u001b[0mi\u001b[0m\u001b[1;33m\u001b[0m\u001b[0m\n\u001b[0;32m      4\u001b[0m \u001b[1;33m\u001b[0m\u001b[0m\n\u001b[0;32m      5\u001b[0m \u001b[1;33m\u001b[0m\u001b[0m\n",
      "\u001b[1;31mTypeError\u001b[0m: only length-1 arrays can be converted to Python scalars"
     ]
    }
   ],
   "source": [
    "purete = np.zeros((20))\n",
    "for i in range(20):\n",
    "    purete[i] = np.where(y==i)==np.where(ySur==i)\n",
    "    "
   ]
  },
  {
   "cell_type": "code",
   "execution_count": 123,
   "metadata": {
    "collapsed": false
   },
   "outputs": [
    {
     "data": {
      "text/plain": [
       "array([ 0,  1,  2,  3,  4,  5,  6,  7,  8,  9, 10, 11, 12, 13, 14, 15, 16,\n",
       "       17, 18, 19], dtype=int64)"
      ]
     },
     "execution_count": 123,
     "metadata": {},
     "output_type": "execute_result"
    }
   ],
   "source": [
    "np.unique(np.array(y))"
   ]
  },
  {
   "cell_type": "code",
   "execution_count": 122,
   "metadata": {
    "collapsed": true
   },
   "outputs": [],
   "source": [
    "save = y"
   ]
  },
  {
   "cell_type": "code",
   "execution_count": 128,
   "metadata": {
    "collapsed": false
   },
   "outputs": [],
   "source": [
    "purete = np.zeros(y.shape[0])"
   ]
  },
  {
   "cell_type": "code",
   "execution_count": 146,
   "metadata": {
    "collapsed": false
   },
   "outputs": [
    {
     "name": "stdout",
     "output_type": "stream",
     "text": [
      "[1 1 1 1 1 1 1 1 1 1 1 1 1 1 1 1 1 1 1 1 1 1 1 1 1 1 1 1 1 1 1 1 1 1 1 1 1\n",
      " 1 1 1 1 1 1 1 1 1 1 1 1 1 1 1 1 1 1 1 1 1 1 1 1 1 1 1 1 1 1 1 1 1 1 1 1 1\n",
      " 1 1 1 1 1 1 1 1 1 1 1 1 1 1 1 1 1 1 1 1 1 1 1 1 1 1 1 1 1 1 1 1 1 1 1 1 1\n",
      " 1 1 1 1 1 1 1 1 1 1 1 1 1 1 1 1 1 1 1 1 1 1 1 1 1 1 1 1 1 1 1 1 1 1 1 1 1\n",
      " 1 1 1 1 1 1 1 1 1 1 1 1 1 1 1 1 1 1 1 1 1 1 1 1 1 1 1 1 1 1 1 1 1 1 1 1 1\n",
      " 1 1 1 1 1 1 1 1 1 1 1 1 1 1 1 1 1 1 1 1 1 1 1 1 1 1 1 1 1 1 1 1 1 1 1 1 1\n",
      " 1 1 1 1 1 1 1 1 1 1 1 1 1 1 1 1 1 1 1 1 1 1 1 1 1 1 1 1 1 1 1 1 1 1 1 1 1\n",
      " 1 1 1 1 1 1 1 1 1 1 1 1 1 1 1 1 1 1 1 1 1 1 1 1 1 1 1 1 1 1 1 1 1 1 1 1 1\n",
      " 1 1 1 1 1 1 1 1 1 1 1 1 1 1 1 1 1 1 1 1 1 1 1 1 1 1 1 1 1 1 1 1 1 1 1 1 1\n",
      " 1 1 1 1 1 1 1 1 1 1 1 1 1 1 1 1 1 1 1 1 1 1 1 1 1 1 1 1 1 1 1 1 1 1 1 1 1\n",
      " 1 1 1 1 1 1 1 1 1 1 1 1 1 1 1 1 1 1 1 1 1 1 1 1 1 1 1 1 1 1 1 1 1 1 1 1 1\n",
      " 1 1 1 1 1 1 1 1 1 1 1 1 1 1 1 1 1 1 1 1 1 1 1 1 1 1 1 1 1 1 1 1 1 1 1 1 1\n",
      " 1 1 1 1 1 1 1 1 1 1 1 1 1 1 1 1 1 1 1 1 1 1 1 1 1 1 1 1 1 1 1 1 1 1 1 1 1\n",
      " 1 1 1 1 1 1 1 1 1 1 1 1 1 1 1 1 1 1 1 1 1 1 1 1 1 1 1 1 1 1 1 1 1 1 1 1 1\n",
      " 1 1 1 1 1 1 1 1 1 1 1 1 1 1 1 1 1 1 1 1 1 1 1 1 1 1 1 1 1 1 1 1 1 1 1 1 1\n",
      " 1 1 1 1 1 1 1 1 1 1 1 1 1 1 1 1 1 1 1 1 1 1 1 1 1 1 1 1 1]\n"
     ]
    }
   ],
   "source": [
    "print ySur[np.where(ySur==1)[0]]\n"
   ]
  },
  {
   "cell_type": "code",
   "execution_count": 170,
   "metadata": {
    "collapsed": false
   },
   "outputs": [
    {
     "data": {
      "text/plain": [
       "array([[ 0.,  0.,  0.,  0.,  0.,  0.,  0.,  0.,  0.,  0.,  0.,  0.,  0.,\n",
       "         0.,  0.,  0.,  0.,  0.,  0.,  0.],\n",
       "       [ 0.,  0.,  0.,  0.,  0.,  0.,  0.,  0.,  0.,  0.,  0.,  0.,  0.,\n",
       "         0.,  0.,  0.,  0.,  0.,  0.,  0.],\n",
       "       [ 0.,  0.,  0.,  0.,  0.,  0.,  0.,  0.,  0.,  0.,  0.,  0.,  0.,\n",
       "         0.,  0.,  0.,  0.,  0.,  0.,  0.],\n",
       "       [ 0.,  0.,  0.,  0.,  0.,  0.,  0.,  0.,  0.,  0.,  0.,  0.,  0.,\n",
       "         0.,  0.,  0.,  0.,  0.,  0.,  0.],\n",
       "       [ 0.,  0.,  0.,  0.,  0.,  0.,  0.,  0.,  0.,  0.,  0.,  0.,  0.,\n",
       "         0.,  0.,  0.,  0.,  0.,  0.,  0.],\n",
       "       [ 0.,  0.,  0.,  0.,  0.,  0.,  0.,  0.,  0.,  0.,  0.,  0.,  0.,\n",
       "         0.,  0.,  0.,  0.,  0.,  0.,  0.],\n",
       "       [ 0.,  0.,  0.,  0.,  0.,  0.,  0.,  0.,  0.,  0.,  0.,  0.,  0.,\n",
       "         0.,  0.,  0.,  0.,  0.,  0.,  0.],\n",
       "       [ 0.,  0.,  0.,  0.,  0.,  0.,  0.,  0.,  0.,  0.,  0.,  0.,  0.,\n",
       "         0.,  0.,  0.,  0.,  0.,  0.,  0.],\n",
       "       [ 0.,  0.,  0.,  0.,  0.,  0.,  0.,  0.,  0.,  0.,  0.,  0.,  0.,\n",
       "         0.,  0.,  0.,  0.,  0.,  0.,  0.],\n",
       "       [ 0.,  0.,  0.,  0.,  0.,  0.,  0.,  0.,  0.,  0.,  0.,  0.,  0.,\n",
       "         0.,  0.,  0.,  0.,  0.,  0.,  0.],\n",
       "       [ 0.,  0.,  0.,  0.,  0.,  0.,  0.,  0.,  0.,  0.,  0.,  0.,  0.,\n",
       "         0.,  0.,  0.,  0.,  0.,  0.,  0.],\n",
       "       [ 0.,  0.,  0.,  0.,  0.,  0.,  0.,  0.,  0.,  0.,  0.,  0.,  0.,\n",
       "         0.,  0.,  0.,  0.,  0.,  0.,  0.],\n",
       "       [ 0.,  0.,  0.,  0.,  0.,  0.,  0.,  0.,  0.,  0.,  0.,  0.,  0.,\n",
       "         0.,  0.,  0.,  0.,  0.,  0.,  0.],\n",
       "       [ 0.,  0.,  0.,  0.,  0.,  0.,  0.,  0.,  0.,  0.,  0.,  0.,  0.,\n",
       "         0.,  0.,  0.,  0.,  0.,  0.,  0.],\n",
       "       [ 0.,  0.,  0.,  0.,  0.,  0.,  0.,  0.,  0.,  0.,  0.,  0.,  0.,\n",
       "         0.,  0.,  0.,  0.,  0.,  0.,  0.],\n",
       "       [ 0.,  0.,  0.,  0.,  0.,  0.,  0.,  0.,  0.,  0.,  0.,  0.,  0.,\n",
       "         0.,  0.,  0.,  0.,  0.,  0.,  0.],\n",
       "       [ 0.,  0.,  0.,  0.,  0.,  0.,  0.,  0.,  0.,  0.,  0.,  0.,  0.,\n",
       "         0.,  0.,  0.,  0.,  0.,  0.,  0.],\n",
       "       [ 0.,  0.,  0.,  0.,  0.,  0.,  0.,  0.,  0.,  0.,  0.,  0.,  0.,\n",
       "         0.,  0.,  0.,  0.,  0.,  0.,  0.],\n",
       "       [ 0.,  0.,  0.,  0.,  0.,  0.,  0.,  0.,  0.,  0.,  0.,  0.,  0.,\n",
       "         0.,  0.,  0.,  0.,  0.,  0.,  0.],\n",
       "       [ 0.,  0.,  0.,  0.,  0.,  0.,  0.,  0.,  0.,  0.,  0.,  0.,  0.,\n",
       "         0.,  0.,  0.,  0.,  0.,  0.,  0.]])"
      ]
     },
     "execution_count": 170,
     "metadata": {},
     "output_type": "execute_result"
    }
   ],
   "source": [
    "purete = np.zeros((20,20))\n",
    "purete"
   ]
  },
  {
   "cell_type": "code",
   "execution_count": 221,
   "metadata": {
    "collapsed": false
   },
   "outputs": [
    {
     "name": "stdout",
     "output_type": "stream",
     "text": [
      "[[  9.          42.22222222]\n",
      " [  0.          15.82278481]\n",
      " [ 10.          90.47619048]\n",
      " [  6.          66.66666667]\n",
      " [  9.          12.92517007]\n",
      " [  6.          51.18110236]\n",
      " [  5.          29.06976744]\n",
      " [  5.          34.48275862]\n",
      " [  1.          14.28571429]\n",
      " [ 12.          12.05479452]\n",
      " [  9.          15.29680365]\n",
      " [  8.          20.        ]\n",
      " [  1.          16.52173913]\n",
      " [ 10.          16.        ]\n",
      " [ 11.           6.89655172]\n",
      " [ 12.          12.25806452]\n",
      " [  6.          50.        ]\n",
      " [  2.          12.68715524]\n",
      " [  5.          24.        ]\n",
      " [  7.          10.6918239 ]]\n"
     ]
    }
   ],
   "source": [
    "nb_classes=20\n",
    "purete = np.zeros((20,2))\n",
    "\n",
    "for c in range(nb_classes):\n",
    "    index=np.where(y==c)[0]\n",
    "    #print ySur[index]\n",
    "    salut=np.bincount(ySur[index][0])\n",
    "    m=np.max(salut)*100./np.array(np.where(y==c)).shape[2]\n",
    "    \n",
    "    \n",
    "    \n",
    "    \n",
    "    purete[c] = np.argmax(salut),m\n",
    "    \n",
    "    #     print np.argmax([[1. for cl in range(20)] for i in range(len(ySur)) if(ySur==cl)])\n",
    "    #for j in range(20):\n",
    "        \n",
    "    \n",
    "print purete\n"
   ]
  },
  {
   "cell_type": "code",
   "execution_count": 216,
   "metadata": {
    "collapsed": false
   },
   "outputs": [
    {
     "name": "stdout",
     "output_type": "stream",
     "text": [
      "[ 0.02222222  0.          0.          0.          0.          0.\n",
      "  0.02222222  0.02222222  0.02222222  0.42222222  0.13333333  0.          0.\n",
      "  0.          0.04444444  0.15555556  0.04444444  0.          0.02222222\n",
      "  0.08888889]\n"
     ]
    }
   ],
   "source": [
    "index = np.where(y==0)[0]\n",
    "print np.bincount(ySur[index][0])*1./np.array(np.where(y==0)).shape[2]"
   ]
  },
  {
   "cell_type": "code",
   "execution_count": 225,
   "metadata": {
    "collapsed": false
   },
   "outputs": [],
   "source": [
    "index = np.where(y==0)"
   ]
  },
  {
   "cell_type": "code",
   "execution_count": 233,
   "metadata": {
    "collapsed": false
   },
   "outputs": [],
   "source": [
    "i = (index[0])"
   ]
  },
  {
   "cell_type": "code",
   "execution_count": 238,
   "metadata": {
    "collapsed": false
   },
   "outputs": [
    {
     "data": {
      "text/plain": [
       "matrix([[  402,  3700,  4126,  4668,  5197,  5213,  5214,  5245,  5364,\n",
       "          5398,  5404,  5445,  5446,  5494,  5599,  5612,  5618,  5634,\n",
       "          5643,  5717,  5748,  5762,  5776,  5793,  5975,  6252,  6257,\n",
       "          6260,  6359,  8558,  8704,  8922,  9000,  9005,  9025,  9064,\n",
       "          9204,  9230,  9568,  9599, 10535, 11137, 11165, 11211, 11232]], dtype=int64)"
      ]
     },
     "execution_count": 238,
     "metadata": {},
     "output_type": "execute_result"
    }
   ],
   "source": [
    "i[0][0][0][0][0]"
   ]
  },
  {
   "cell_type": "code",
   "execution_count": null,
   "metadata": {
    "collapsed": true
   },
   "outputs": [],
   "source": []
  },
  {
   "cell_type": "code",
   "execution_count": null,
   "metadata": {
    "collapsed": true
   },
   "outputs": [],
   "source": []
  }
 ],
 "metadata": {
  "kernelspec": {
   "display_name": "Python 2",
   "language": "python",
   "name": "python2"
  },
  "language_info": {
   "codemirror_mode": {
    "name": "ipython",
    "version": 2
   },
   "file_extension": ".py",
   "mimetype": "text/x-python",
   "name": "python",
   "nbconvert_exporter": "python",
   "pygments_lexer": "ipython2",
   "version": "2.7.11"
  }
 },
 "nbformat": 4,
 "nbformat_minor": 0
}
