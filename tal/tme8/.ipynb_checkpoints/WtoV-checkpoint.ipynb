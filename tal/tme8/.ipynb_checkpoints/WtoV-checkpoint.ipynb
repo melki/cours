{
 "cells": [
  {
   "cell_type": "markdown",
   "metadata": {},
   "source": [
    "# TME8 WORD TO VEC"
   ]
  },
  {
   "cell_type": "code",
   "execution_count": 47,
   "metadata": {
    "collapsed": true
   },
   "outputs": [],
   "source": [
    "import gensim, logging\n",
    "\n",
    "import os\n"
   ]
  },
  {
   "cell_type": "code",
   "execution_count": 48,
   "metadata": {
    "collapsed": false
   },
   "outputs": [],
   "source": [
    "logging.basicConfig(format='%(asctime)s : %(levelname)s : %(message)s', level=logging.INFO)\n"
   ]
  },
  {
   "cell_type": "code",
   "execution_count": 49,
   "metadata": {
    "collapsed": false
   },
   "outputs": [],
   "source": [
    "class MySentences(object):\n",
    "    def __init__(self, dirname):\n",
    "        self.dirname = dirname\n",
    "    def __iter__(self):\n",
    "        for fname in os.listdir(self.dirname):\n",
    "            for line in open(os.path.join(self.dirname, fname)):\n",
    "                yield line.split()\n",
    "\n",
    "sentences = MySentences(\"/home/melki/Documents/cours/tal/tme8/total\") # a memory-friendly iterator\n",
    "model = gensim.models.Word2Vec(sentences)"
   ]
  },
  {
   "cell_type": "code",
   "execution_count": 155,
   "metadata": {
    "collapsed": false
   },
   "outputs": [
    {
     "name": "stdout",
     "output_type": "stream",
     "text": [
      "indie\n",
      "sci-fi\n",
      "direct-to-video\n",
      "low-budget\n",
      "\"horror\"\n",
      "B\n",
      "science-fiction\n",
      "made-for-TV\n",
      "Horror\n",
      "80s\n"
     ]
    }
   ],
   "source": [
    "\n",
    "\n",
    "a = model.most_similar(positive=['stallone','horror'],negative=[\"action\"], topn=10)\n",
    "for j in range(len(a)):\n",
    "    print a[j][0]\n"
   ]
  },
  {
   "cell_type": "code",
   "execution_count": 117,
   "metadata": {
    "collapsed": false
   },
   "outputs": [],
   "source": [
    "def chainOfSim(w):\n",
    "    h = []\n",
    "    for i in range(20):\n",
    "        h.append(w)\n",
    "        print w\n",
    "        a = model.most_similar(positive=[h[i]], topn=10)\n",
    "        \n",
    "        for b in range(10):\n",
    "            if a[b][0] not in h:\n",
    "                w = a[b][0]\n",
    "                break"
   ]
  },
  {
   "cell_type": "code",
   "execution_count": 140,
   "metadata": {
    "collapsed": false
   },
   "outputs": [
    {
     "name": "stdout",
     "output_type": "stream",
     "text": [
      "anakin\n",
      "skywalker\n",
      "michelle\n",
      "ralph\n",
      "aaron\n",
      "ewan\n",
      "mcgregor\n",
      "donald\n",
      "sutherland\n",
      "wilson\n",
      "annette\n",
      "bening\n",
      "ian\n",
      "natalie\n",
      "portman\n",
      "neve\n",
      "campbell\n",
      "catherine\n",
      "matthew\n",
      "billy\n"
     ]
    }
   ],
   "source": [
    "chainOfSim(\"anakin\")\n"
   ]
  },
  {
   "cell_type": "code",
   "execution_count": null,
   "metadata": {
    "collapsed": true
   },
   "outputs": [],
   "source": []
  }
 ],
 "metadata": {
  "kernelspec": {
   "display_name": "Python 2",
   "language": "python",
   "name": "python2"
  },
  "language_info": {
   "codemirror_mode": {
    "name": "ipython",
    "version": 2
   },
   "file_extension": ".py",
   "mimetype": "text/x-python",
   "name": "python",
   "nbconvert_exporter": "python",
   "pygments_lexer": "ipython2",
   "version": "2.7.11"
  }
 },
 "nbformat": 4,
 "nbformat_minor": 0
}
